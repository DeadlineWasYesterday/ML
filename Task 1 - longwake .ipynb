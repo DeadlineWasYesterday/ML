{
 "cells": [
  {
   "cell_type": "code",
   "execution_count": null,
   "metadata": {},
   "outputs": [],
   "source": [
    "import pandas as pd\n",
    "from sklearn import svm\n",
    "\n",
    "#importing the files and combining them (see: https://pandas.pydata.org/pandas-docs/stable/user_guide/merging.html)\n",
    "frame1 = pd.read_csv(\"D:\\Jupyter Notebook\\ML\\humanpower1.csv\")\n",
    "frame2 = pd.read_csv(\"D:\\Jupyter Notebook\\ML\\humanpower2.csv\")\n",
    "df=pd.concat([frame1,frame2])\n",
    "\n",
    "#three variants on svr kernels, they do different things apparently \n",
    "#(https://scikit-learn.org/stable/auto_examples/svm/plot_svm_regression.html)\n",
    "svr_a=svm.SVR(kernel='linear')\n",
    "svr_b=svm.SVR(kernel='rbf',gamma='scale')\n",
    "svr_c=svm.SVR(kernel='poly',gamma='scale')\n",
    "\n",
    "#calling the values for SVR \n",
    "watts=df.loc[:,'wattsPerKg']\n",
    "oxy=df.loc[:,'o2']\n",
    "\n",
    "#reshaped watts based on: https://stackoverflow.com/questions/12575421/convert-a-1d-array-to-a-2d-array-in-numpy \n",
    "#after encountering error (Expected 2D array, got 1D array instead)\n",
    "#https://stackoverflow.com/questions/53723928/attributeerror-series-object-has-no-attribute-reshape after error ( 'Series' object has no attribute 'reshape')\n",
    "#predicts o2 based on wattsperkg\n",
    "svr_a.fit(watts.values.reshape(-1,1),oxy)\n",
    "print(svr_a.predict([[5]]))\n",
    "svr_b.fit(watts.values.reshape(-1,1),oxy)\n",
    "print(svr_b.predict([[5]]))\n",
    "svr_c.fit(watts.values.reshape(-1,1),oxy)\n",
    "print(svr_c.predict([[5]]))"
   ]
  }
 ],
 "metadata": {
  "kernelspec": {
   "display_name": "Python 3",
   "language": "python",
   "name": "python3"
  },
  "language_info": {
   "codemirror_mode": {
    "name": "ipython",
    "version": 3
   },
   "file_extension": ".py",
   "mimetype": "text/x-python",
   "name": "python",
   "nbconvert_exporter": "python",
   "pygments_lexer": "ipython3",
   "version": "3.6.8"
  }
 },
 "nbformat": 4,
 "nbformat_minor": 2
}
