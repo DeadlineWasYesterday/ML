{
 "cells": [
  {
   "cell_type": "code",
   "execution_count": 55,
   "metadata": {},
   "outputs": [],
   "source": [
    "# Importing libraries and making a DF with random coordinates\n",
    "import pandas as pd\n",
    "import numpy as np\n",
    "import math\n",
    "\n",
    "twocols = pd.DataFrame({'x' : [np.random.randint(0, 20) for _ in range(20)],\n",
    "                       'y' : [np.random.randint(0, 20) for _ in range(20)]})\n",
    "\n"
   ]
  },
  {
   "cell_type": "code",
   "execution_count": 93,
   "metadata": {},
   "outputs": [],
   "source": [
    "#Defining the function. Takes two inputs. The dataframe, or training set. And an input value  of x for predicting y.\n",
    "\n",
    "def LinearRegression(df, p):\n",
    "    xmxb = []\n",
    "    xmxbsq = []\n",
    "    ymyb = []\n",
    "    ymybsq = []\n",
    "    xmxbtymyb = []\n",
    "    c = 0\n",
    "    df.columns = ['x', 'y']\n",
    "    for x in df['x']:\n",
    "        xmxb.append(x -(df['x'].sum() / len(df['x'])))\n",
    "        xmxbsq.append(math.pow((x -(df['x'].sum() / len(df['x']))),2))\n",
    "        \n",
    "    for y in df['y']:\n",
    "        \n",
    "        ymyb.append(y -(df['y'].sum() / len(df['y'])))\n",
    "        ymybsq.append((y -(df['y'].sum() / len(df['y']))) ** 2)\n",
    "        xmxbtymyb.append(xmxb[c] * ymyb[c])\n",
    "        c = c +1\n",
    "    df['x - xbar'] = xmxb\n",
    "    df['x - xbar squared'] = xmxbsq\n",
    "    df['y - ybar'] = ymyb\n",
    "    df['y - ybar squared'] = ymybsq\n",
    "    df['x-xb times y-yb'] = xmxbtymyb\n",
    "    \n",
    "    b1 = df['x-xb times y-yb'].sum() / df['x - xbar squared'].sum()\n",
    "    b0 = (df['y'].sum() / len(df['y'])) - b1 * (df['x'].sum() / len(df['x']))\n",
    "    \n",
    "    yhat = b0 + b1 * p\n",
    "    \n",
    "    \n",
    "    return yhat"
   ]
  },
  {
   "cell_type": "code",
   "execution_count": 96,
   "metadata": {},
   "outputs": [
    {
     "data": {
      "text/plain": [
       "123126.81210965599"
      ]
     },
     "execution_count": 96,
     "metadata": {},
     "output_type": "execute_result"
    }
   ],
   "source": [
    "saldat = pd.read_csv('Salary_Data.csv')\n",
    "\n",
    "LinearRegression(saldat, 10.3)"
   ]
  }
 ],
 "metadata": {
  "kernelspec": {
   "display_name": "Python 3",
   "language": "python",
   "name": "python3"
  },
  "language_info": {
   "codemirror_mode": {
    "name": "ipython",
    "version": 3
   },
   "file_extension": ".py",
   "mimetype": "text/x-python",
   "name": "python",
   "nbconvert_exporter": "python",
   "pygments_lexer": "ipython3",
   "version": "3.6.8"
  }
 },
 "nbformat": 4,
 "nbformat_minor": 2
}
