{
 "cells": [
  {
   "cell_type": "code",
   "execution_count": 1,
   "metadata": {},
   "outputs": [],
   "source": [
    "import numpy as np\n",
    "import pandas as pd\n",
    "from sklearn import svm\n",
    "from sklearn.svm import LinearSVR\n",
    "\n",
    "manpow1 = pd.read_csv('humanpower1.csv')\n",
    "\n",
    "manpow2 = pd.read_csv('humanpower2.csv')"
   ]
  },
  {
   "cell_type": "code",
   "execution_count": 2,
   "metadata": {},
   "outputs": [],
   "source": [
    "#Defining working dataframe\n",
    "\n",
    "wdf = pd.DataFrame({'indep' : manpow1['o2'],\n",
    "                    'dep' : manpow1[\"wattsPerKg\"]})\n",
    "wdf2 = pd.DataFrame({'indep' : manpow2['o2'],\n",
    "                    'dep' : manpow2[\"wattsPerKg\"]})\n",
    "\n",
    "wdf = pd.concat([wdf, wdf2], axis=0, ignore_index=True)\n"
   ]
  },
  {
   "cell_type": "code",
   "execution_count": 12,
   "metadata": {},
   "outputs": [
    {
     "name": "stdout",
     "output_type": "stream",
     "text": [
      "[4.23975741]\n",
      "0.8270665806659558\n",
      "[4.67950075]\n",
      "0.8128974924057841\n"
     ]
    }
   ],
   "source": [
    "X = wdf.iloc[:, 0:1].values\n",
    "y = wdf.iloc[:, 1:2].values\n",
    "\n",
    "#Using ravel to covert column vector to 1d array to get rid of deprication warning\n",
    "test = y.ravel()\n",
    "\n",
    "#Model building SVR\n",
    "\n",
    "SVRreg = svm.SVR(gamma= 'auto')\n",
    "SVRreg.fit(X, test)\n",
    "\n",
    "#Prediction with SVR model\n",
    "\n",
    "pred1 = SVRreg.predict([[65]])\n",
    "print(pred1)\n",
    "print(SVRreg.score(X, y))\n",
    "\n",
    "#Model building- Linear SVR\n",
    "\n",
    "LinSVRreg = LinearSVR(random_state = 0, tol = 1e-5, C = 5, max_iter=100000000)\n",
    "LinSVRreg.fit(X, test)\n",
    "\n",
    "#Prediction with LinearSVR model\n",
    "\n",
    "pred2 = LinSVRreg.predict([[65]])\n",
    "print(pred2)\n",
    "print(LinSVRreg.score(X, y))"
   ]
  }
 ],
 "metadata": {
  "kernelspec": {
   "display_name": "Python 3",
   "language": "python",
   "name": "python3"
  },
  "language_info": {
   "codemirror_mode": {
    "name": "ipython",
    "version": 3
   },
   "file_extension": ".py",
   "mimetype": "text/x-python",
   "name": "python",
   "nbconvert_exporter": "python",
   "pygments_lexer": "ipython3",
   "version": "3.6.8"
  }
 },
 "nbformat": 4,
 "nbformat_minor": 2
}
